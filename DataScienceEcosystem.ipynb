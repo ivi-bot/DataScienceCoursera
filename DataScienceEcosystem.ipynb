{
 "cells": [
  {
   "cell_type": "markdown",
   "id": "5e2ffc1c",
   "metadata": {},
   "source": [
    "# Data Science Tools and Ecosystem"
   ]
  },
  {
   "cell_type": "markdown",
   "id": "f8217e54",
   "metadata": {},
   "source": [
    "En este cuaderno, se resumen las herramientas y ecosistemas de ciencia de datos."
   ]
  },
  {
   "cell_type": "markdown",
   "id": "5caf2381",
   "metadata": {},
   "source": [
    "**Objetivos:**\n",
    "<ol>\n",
    "<li> Listar lenguajes populares para Ciencia de Datos</li> \n",
    "<li> Listar bibliotecas de ciencia de datos </li> \n",
    "<li> Tabla de herramientas de ciencia de datos </li> \n",
    "    </ol>"
   ]
  },
  {
   "cell_type": "markdown",
   "id": "17b60d90",
   "metadata": {},
   "source": [
    "## Autor\n",
    "Viviana Muñoz Carranza"
   ]
  },
  {
   "cell_type": "markdown",
   "id": "4b317033",
   "metadata": {},
   "source": [
    "Algunos de los lenguajes populares que utilizan los científicos de datos son:\n",
    "<ol>\n",
    "<li> Python</li>\n",
    "<li> R</li>\n",
    "<li>Julia</li>\n",
    "    </ol>"
   ]
  },
  {
   "cell_type": "markdown",
   "id": "391f466e",
   "metadata": {},
   "source": [
    "Algunas de las bibliotecas comúnmente utilizadas por los científicos de datos incluyen:\n",
    "\n",
    "<li> Numpy</li>\n",
    "<li> Pandas</li>\n",
    "<li>Tensorflow</li>"
   ]
  },
  {
   "cell_type": "markdown",
   "id": "a8713da3",
   "metadata": {},
   "source": [
    "| Herramientas de Ciencia de Datos |\n",
    "|:--------:|\n",
    "|Jupyter Notebook|\n",
    "|  RStudio |\n",
    "| Visual Studio Code |"
   ]
  },
  {
   "cell_type": "markdown",
   "id": "b24ec8b7",
   "metadata": {},
   "source": [
    "### A continuación, se presentan algunos ejemplos de evaluación de expresiones aritméticas en Python."
   ]
  },
  {
   "cell_type": "code",
   "execution_count": 3,
   "id": "a3f90767",
   "metadata": {},
   "outputs": [
    {
     "data": {
      "text/plain": [
       "17"
      ]
     },
     "execution_count": 3,
     "metadata": {},
     "output_type": "execute_result"
    }
   ],
   "source": [
    "# Esta es una expresión aritmética simple para multiplicar y luego sumar enteros\n",
    "(3*4)+5"
   ]
  },
  {
   "cell_type": "code",
   "execution_count": 4,
   "id": "7c3a243b",
   "metadata": {},
   "outputs": [
    {
     "data": {
      "text/plain": [
       "3.3333333333333335"
      ]
     },
     "execution_count": 4,
     "metadata": {},
     "output_type": "execute_result"
    }
   ],
   "source": [
    "# Esto convertirá 200 minutos a horas dividiendo por 60\n",
    "convertir= 200/60\n",
    "convertir"
   ]
  }
 ],
 "metadata": {
  "kernelspec": {
   "display_name": "Python 3 (ipykernel)",
   "language": "python",
   "name": "python3"
  },
  "language_info": {
   "codemirror_mode": {
    "name": "ipython",
    "version": 3
   },
   "file_extension": ".py",
   "mimetype": "text/x-python",
   "name": "python",
   "nbconvert_exporter": "python",
   "pygments_lexer": "ipython3",
   "version": "3.10.13"
  }
 },
 "nbformat": 4,
 "nbformat_minor": 5
}
